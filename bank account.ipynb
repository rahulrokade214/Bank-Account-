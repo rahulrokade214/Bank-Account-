{
 "cells": [
  {
   "cell_type": "markdown",
   "id": "27e8a1c3-37a2-4cdb-91d1-74993071022b",
   "metadata": {},
   "source": [
    "                 BANK ACCOUNT"
   ]
  },
  {
   "cell_type": "code",
   "execution_count": 86,
   "id": "66a4b28c-4858-41ba-b137-f62bb864da28",
   "metadata": {},
   "outputs": [],
   "source": [
    "class bank_account :\n",
    "    \n",
    "    def __init__(self,balence) :\n",
    "        self.__balence = balence\n",
    "        \n",
    "    def deposit(self,amount) :\n",
    "        self.__balence = self.__balence + amount\n",
    "        \n",
    "    def withdraw(self,amount) :\n",
    "        if self.__balence >= amount :\n",
    "            self.__balence = self.__balence - amount\n",
    "            return \"Transaction successful\"\n",
    "        else :\n",
    "            return \" 'Sorry' Your Account Balence is Low \"\n",
    "        \n",
    "    def get_bank_accountbalence(self) :\n",
    "        return self.__balence "
   ]
  },
  {
   "cell_type": "code",
   "execution_count": 87,
   "id": "4c829a6d-27ab-45eb-894d-0d99a725e702",
   "metadata": {},
   "outputs": [],
   "source": [
    "om = bank_account(1000)            # Let's suppose our bank balence is \"1000\"Rs "
   ]
  },
  {
   "cell_type": "code",
   "execution_count": 88,
   "id": "f9b47d0e-0ada-45dc-9bb9-ce72730a490b",
   "metadata": {},
   "outputs": [
    {
     "data": {
      "text/plain": [
       "1000"
      ]
     },
     "execution_count": 88,
     "metadata": {},
     "output_type": "execute_result"
    }
   ],
   "source": [
    "om.get_bank_accountbalence()         #Cheked acount balence\n",
    "                                       # Then the rest of money is \"1000\"Rs"
   ]
  },
  {
   "cell_type": "code",
   "execution_count": 89,
   "id": "3ad12a95-0e64-4c37-a03b-e30044c06eb3",
   "metadata": {},
   "outputs": [],
   "source": [
    "om.deposit(4000)                     #I deposited Rs.4000 in the bank"
   ]
  },
  {
   "cell_type": "code",
   "execution_count": 90,
   "id": "91c68bbf-3613-4998-93f3-11a53aba774d",
   "metadata": {},
   "outputs": [
    {
     "data": {
      "text/plain": [
       "5000"
      ]
     },
     "execution_count": 90,
     "metadata": {},
     "output_type": "execute_result"
    }
   ],
   "source": [
    "om.get_bank_accountbalence()          #Cheked account balence"
   ]
  },
  {
   "cell_type": "code",
   "execution_count": 91,
   "id": "cfd84068-b26e-46d6-9720-f1a946af8919",
   "metadata": {},
   "outputs": [
    {
     "data": {
      "text/plain": [
       "'Transaction successful'"
      ]
     },
     "execution_count": 91,
     "metadata": {},
     "output_type": "execute_result"
    }
   ],
   "source": [
    "om.withdraw(1000)                    # 1000 Rs withdraw"
   ]
  },
  {
   "cell_type": "code",
   "execution_count": 92,
   "id": "f49e1299-d898-40f3-adf3-eddc9b7ff844",
   "metadata": {},
   "outputs": [
    {
     "data": {
      "text/plain": [
       "4000"
      ]
     },
     "execution_count": 92,
     "metadata": {},
     "output_type": "execute_result"
    }
   ],
   "source": [
    "om.get_bank_accountbalence()        # 5000-1000 = 4000"
   ]
  },
  {
   "cell_type": "code",
   "execution_count": null,
   "id": "48f0bc4f-c7ea-4b40-ac20-1a60f8fd55a5",
   "metadata": {},
   "outputs": [],
   "source": [
    "om.withdraw(8)"
   ]
  },
  {
   "cell_type": "code",
   "execution_count": null,
   "id": "2375a915-cd23-477b-8074-5fca9dfae3e5",
   "metadata": {},
   "outputs": [],
   "source": []
  }
 ],
 "metadata": {
  "kernelspec": {
   "display_name": "Python 3 (ipykernel)",
   "language": "python",
   "name": "python3"
  },
  "language_info": {
   "codemirror_mode": {
    "name": "ipython",
    "version": 3
   },
   "file_extension": ".py",
   "mimetype": "text/x-python",
   "name": "python",
   "nbconvert_exporter": "python",
   "pygments_lexer": "ipython3",
   "version": "3.10.8"
  }
 },
 "nbformat": 4,
 "nbformat_minor": 5
}
